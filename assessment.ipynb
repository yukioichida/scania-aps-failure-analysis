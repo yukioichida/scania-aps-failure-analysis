{
 "cells": [
  {
   "cell_type": "markdown",
   "metadata": {},
   "source": [
    "# Base methods to deal with the test cases"
   ]
  },
  {
   "cell_type": "code",
   "execution_count": 65,
   "metadata": {},
   "outputs": [],
   "source": [
    "import pandas as pd\n",
    "from pandas import DataFrame\n",
    "from sklearn.impute import SimpleImputer\n",
    "from sklearn.preprocessing import MinMaxScaler\n",
    "from sklearn.decomposition import PCA\n",
    "from sklearn.tree import DecisionTreeClassifier\n",
    "from sklearn.model_selection import train_test_split\n",
    "from sklearn.metrics import accuracy_score\n",
    "from sklearn.metrics import confusion_matrix"
   ]
  },
  {
   "cell_type": "markdown",
   "metadata": {},
   "source": [
    "### Base methods to deal with preprocessing data\n",
    "- **fill_gaps** : *Method that deals with missing data from a dataframe*\n",
    "- **normalize** : *Method that normalize data rescaling numerical values to a predefined range*\n",
    "- **pca** : *Method that applies pca in a dataframe*"
   ]
  },
  {
   "cell_type": "code",
   "execution_count": 69,
   "metadata": {},
   "outputs": [],
   "source": [
    "def fill_gaps(df, empty_token = '?'):\n",
    "    imputer = SimpleImputer(missing_values = empty_token, strategy = 'most_frequent')\n",
    "    result = imputer.fit_transform(df)\n",
    "    \n",
    "    result_df = DataFrame(result)\n",
    "    result_df.columns = df.columns\n",
    "    result_df.index = df.index\n",
    "    return result_df\n",
    "\n",
    "def normalize(df, columns, range=(0,1)):\n",
    "    scaler = MinMaxScaler(feature_range=range)\n",
    "    for col in columns:\n",
    "        scaled_values = scaler.fit_transform(df[[col]].values.astype(float))\n",
    "        df[col] = scaled_values\n",
    "\n",
    "def pca(df, components = 70):\n",
    "    pca = PCA(n_components = components)\n",
    "    pca_values = pca.fit_transform(df)\n",
    "    component_cols = []\n",
    "    for i in range(0, components):\n",
    "        component_cols.append('component_%s'%i)\n",
    "    return DataFrame(data = pca_values, columns = component_cols)\n",
    "\n",
    "def cost(fp, fn):\n",
    "    return (fp * 2) + fn"
   ]
  },
  {
   "cell_type": "markdown",
   "metadata": {},
   "source": [
    "# Load the train and test datasets"
   ]
  },
  {
   "cell_type": "code",
   "execution_count": 56,
   "metadata": {},
   "outputs": [],
   "source": [
    "train_df = pd.read_csv(\"aps_training_set_sample3.csv\")\n",
    "test_df = pd.read_csv(\"aps_failure_test_set.csv\")"
   ]
  },
  {
   "cell_type": "markdown",
   "metadata": {},
   "source": [
    "# Balancing classes in train dataset by resampling"
   ]
  },
  {
   "cell_type": "code",
   "execution_count": 63,
   "metadata": {},
   "outputs": [
    {
     "data": {
      "text/plain": [
       "'Positive samples: 1000 - Negative samples: 1000'"
      ]
     },
     "metadata": {},
     "output_type": "display_data"
    },
    {
     "data": {
      "text/plain": [
       "'Using 1000 samples per class'"
      ]
     },
     "metadata": {},
     "output_type": "display_data"
    },
    {
     "data": {
      "text/plain": [
       "pos    1000\n",
       "neg    1000\n",
       "Name: class, dtype: int64"
      ]
     },
     "metadata": {},
     "output_type": "display_data"
    },
    {
     "data": {
      "text/plain": [
       "(2000, 171)"
      ]
     },
     "execution_count": 63,
     "metadata": {},
     "output_type": "execute_result"
    }
   ],
   "source": [
    "# we need to balance the classes \n",
    "positive_class = train_df[train_df['class'] == 'pos']\n",
    "qtd_pos = positive_class.shape[0]\n",
    "negative_class = train_df[train_df['class'] == 'neg']\n",
    "qtd_neg = negative_class.shape[0]\n",
    "\n",
    "display(\"Positive samples: %s - Negative samples: %s\" %(qtd_pos, qtd_neg))\n",
    "new_samples = min(qtd_neg, qtd_pos)\n",
    "display(\"Using %s samples per class\" % (new_samples))\n",
    "\n",
    "\n",
    "train_df = pd.concat([positive_class[:new_samples], negative_class[:new_samples]])\n",
    "display(train_df['class'].value_counts())\n",
    "train_df.shape"
   ]
  },
  {
   "cell_type": "markdown",
   "metadata": {},
   "source": [
    "# Test Case 1\n",
    "- fill_gaps\n",
    "- Using DecisionTreeClassifier from sklearn"
   ]
  },
  {
   "cell_type": "code",
   "execution_count": 64,
   "metadata": {},
   "outputs": [
    {
     "data": {
      "text/plain": [
       "0.9255"
      ]
     },
     "execution_count": 64,
     "metadata": {},
     "output_type": "execute_result"
    }
   ],
   "source": [
    "pre_train_df = fill_gaps(train_df)\n",
    "pre_test_df = fill_gaps(test_df)\n",
    "\n",
    "x_train = pre_train_df.iloc[:, 1:].values\n",
    "y_train = pre_train_df['class'].values\n",
    "\n",
    "x_test = pre_test_df.iloc[:, 1:].values\n",
    "y_test = pre_test_df['class'].values\n",
    "\n",
    "t1_classifier = DecisionTreeClassifier()\n",
    "t1_classifier.fit(x_train, y_train)\n",
    "\n",
    "y_pred = t1_classifier.predict(x_test)\n",
    "t1_accuracy = accuracy_score(y_test, y_pred)\n",
    "t1_accuracy"
   ]
  },
  {
   "cell_type": "code",
   "execution_count": 70,
   "metadata": {},
   "outputs": [
    {
     "data": {
      "text/plain": [
       "'Cost: 1212'"
      ]
     },
     "metadata": {},
     "output_type": "display_data"
    }
   ],
   "source": [
    "tn, fp, fn, tp = confusion_matrix(y_pred, y_test).ravel()\n",
    "display(\"Cost: %s\" % (cost(fp, fn)))"
   ]
  },
  {
   "cell_type": "code",
   "execution_count": null,
   "metadata": {},
   "outputs": [],
   "source": []
  },
  {
   "cell_type": "code",
   "execution_count": null,
   "metadata": {},
   "outputs": [],
   "source": []
  }
 ],
 "metadata": {
  "kernelspec": {
   "display_name": "Python 3",
   "language": "python",
   "name": "python3"
  },
  "language_info": {
   "codemirror_mode": {
    "name": "ipython",
    "version": 3
   },
   "file_extension": ".py",
   "mimetype": "text/x-python",
   "name": "python",
   "nbconvert_exporter": "python",
   "pygments_lexer": "ipython3",
   "version": "3.6.7"
  }
 },
 "nbformat": 4,
 "nbformat_minor": 2
}
