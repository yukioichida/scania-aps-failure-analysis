{
 "cells": [
  {
   "cell_type": "markdown",
   "metadata": {},
   "source": [
    "# Base methods to deal with the test cases"
   ]
  },
  {
   "cell_type": "code",
   "execution_count": 77,
   "metadata": {},
   "outputs": [],
   "source": [
    "import matplotlib.pyplot as plt  \n",
    "%matplotlib inline\n",
    "import pandas as pd\n",
    "from pandas import DataFrame\n",
    "from sklearn.impute import SimpleImputer\n",
    "from sklearn.preprocessing import MinMaxScaler\n",
    "from sklearn.decomposition import PCA\n",
    "from sklearn.cluster import KMeans\n",
    "from sklearn.model_selection import train_test_split\n",
    "from sklearn.metrics import accuracy_score\n",
    "from sklearn.metrics import confusion_matrix"
   ]
  },
  {
   "cell_type": "markdown",
   "metadata": {},
   "source": [
    "### Base methods to deal with preprocessing data\n",
    "- **fill_gaps** : *Method that deals with missing data from a dataframe*\n",
    "- **normalize** : *Method that normalize data rescaling numerical values to a predefined range*\n",
    "- **pca** : *Method that applies pca in a dataframe*"
   ]
  },
  {
   "cell_type": "code",
   "execution_count": 92,
   "metadata": {},
   "outputs": [
    {
     "ename": "SyntaxError",
     "evalue": "invalid syntax (<ipython-input-92-da781bfcda8d>, line 52)",
     "output_type": "error",
     "traceback": [
      "\u001b[0;36m  File \u001b[0;32m\"<ipython-input-92-da781bfcda8d>\"\u001b[0;36m, line \u001b[0;32m52\u001b[0m\n\u001b[0;31m    print(((y_pred != 0) || (y_pred != 1)).any())\u001b[0m\n\u001b[0m                          ^\u001b[0m\n\u001b[0;31mSyntaxError\u001b[0m\u001b[0;31m:\u001b[0m invalid syntax\n"
     ]
    }
   ],
   "source": [
    "def fill_gaps(df, empty_token = '?'):\n",
    "    imputer = SimpleImputer(missing_values = empty_token, strategy = 'most_frequent')\n",
    "    result = imputer.fit_transform(df)\n",
    "    \n",
    "    result_df = DataFrame(result)\n",
    "    result_df.columns = df.columns\n",
    "    result_df.index = df.index\n",
    "    return result_df\n",
    "\n",
    "def normalize(df, columns, range=(0,1)):\n",
    "    scaler = MinMaxScaler(feature_range=range)\n",
    "    for col in columns:\n",
    "        scaled_values = scaler.fit_transform(df[[col]].values.astype(float))\n",
    "        df[col] = scaled_values\n",
    "    return df\n",
    "\n",
    "def pca(df, components = 70):\n",
    "    pca = PCA(n_components = components)\n",
    "    pca_values = pca.fit_transform(df)\n",
    "    component_cols = []\n",
    "    for i in range(0, components):\n",
    "        component_cols.append('component_%s'%i)\n",
    "    return DataFrame(data = pca_values, columns = component_cols)\n",
    "\n",
    "def cost(fp, fn):\n",
    "    return (fp * 500) + (fn*10)\n",
    "\n",
    "def train_cluster(pre_train_df, pre_test_df):\n",
    "    x_train = pre_train_df.iloc[:, 1:].values\n",
    "#     y_train = pre_train_df['class'].values\n",
    "\n",
    "    x_test = pre_test_df.iloc[:, 1:].values\n",
    "    y_test = pre_test_df['class'].values\n",
    "    y_test[y_test == 'neg'] = 0\n",
    "    y_test[y_test == 'pos'] = 1\n",
    "\n",
    "    kmeans = KMeans(n_clusters=2)  \n",
    "    kmeans.fit(x_train)\n",
    "\n",
    "#     display(\"Clusters labels: %s\" % (kmeans.labels_))\n",
    "#     display(\"Clusters centers: %s\" % (kmeans.cluster_centers_))\n",
    "    plt.scatter(x_train[:,0],x_train[:,1], c=kmeans.labels_, cmap='rainbow')\n",
    "    plt.scatter(kmeans.cluster_centers_[:, 0], kmeans.cluster_centers_[:, 1], c = 'green', label = 'Centroids')\n",
    "    \n",
    "    y_pred = kmeans.predict(x_test)\n",
    "    \n",
    "    display(\"y_test size: %s\" % len((y_test)))\n",
    "    display(\"y_pred size: %s\" % len((y_pred)))\n",
    "    display(\"y_test type: %s\" % type((y_test)))\n",
    "    display(\"y_pred type: %s\" % type((y_pred)))\n",
    "    # Check if there are values different than 0 and 1\n",
    "    # print(((y_pred != 0) & (y_pred != 1)).any())\n",
    "    \n",
    "    accuracy = accuracy_score(y_test, y_pred)\n",
    "    display(\"Accuracy %s\" % (accuracy))\n",
    "    tn, fp, fn, tp = confusion_matrix(y_pred, y_test).ravel()\n",
    "    display (\"False positives: %s - False Negatives %s\" % (fp, fn))\n",
    "    display(\"Cost: %s\" % (cost(fp, fn)))\n",
    "    "
   ]
  },
  {
   "cell_type": "markdown",
   "metadata": {},
   "source": [
    "# Load the train and test datasets"
   ]
  },
  {
   "cell_type": "code",
   "execution_count": 79,
   "metadata": {},
   "outputs": [],
   "source": [
    "train_df = pd.read_csv(\"aps_training_set_sample3.csv\")\n",
    "test_df = pd.read_csv(\"aps_failure_test_set.csv\")"
   ]
  },
  {
   "cell_type": "markdown",
   "metadata": {},
   "source": [
    "# Balancing classes in train dataset"
   ]
  },
  {
   "cell_type": "code",
   "execution_count": 80,
   "metadata": {},
   "outputs": [
    {
     "data": {
      "text/plain": [
       "'Positive samples: 1000 - Negative samples: 2091'"
      ]
     },
     "metadata": {},
     "output_type": "display_data"
    },
    {
     "data": {
      "text/plain": [
       "'Using 1000 samples per class'"
      ]
     },
     "metadata": {},
     "output_type": "display_data"
    },
    {
     "data": {
      "text/plain": [
       "neg    1000\n",
       "pos    1000\n",
       "Name: class, dtype: int64"
      ]
     },
     "metadata": {},
     "output_type": "display_data"
    },
    {
     "data": {
      "text/plain": [
       "(2000, 171)"
      ]
     },
     "execution_count": 80,
     "metadata": {},
     "output_type": "execute_result"
    }
   ],
   "source": [
    "# we need to balance the classes \n",
    "positive_class = train_df[train_df['class'] == 'pos']\n",
    "qtd_pos = positive_class.shape[0]\n",
    "negative_class = train_df[train_df['class'] == 'neg']\n",
    "qtd_neg = negative_class.shape[0]\n",
    "\n",
    "display(\"Positive samples: %s - Negative samples: %s\" %(qtd_pos, qtd_neg))\n",
    "new_samples = min(qtd_neg, qtd_pos)\n",
    "display(\"Using %s samples per class\" % (new_samples))\n",
    "\n",
    "\n",
    "train_df = pd.concat([positive_class[:new_samples], negative_class[:new_samples]], ignore_index = True)\n",
    "display(train_df['class'].value_counts())\n",
    "train_df.shape"
   ]
  },
  {
   "cell_type": "markdown",
   "metadata": {},
   "source": [
    "# Test Case 1\n",
    "- fill_gaps\n",
    "- Using DecisionTreeClassifier from sklearn"
   ]
  },
  {
   "cell_type": "code",
   "execution_count": 93,
   "metadata": {},
   "outputs": [
    {
     "data": {
      "text/plain": [
       "neg    1000\n",
       "pos    1000\n",
       "Name: class, dtype: int64"
      ]
     },
     "metadata": {},
     "output_type": "display_data"
    },
    {
     "data": {
      "text/plain": [
       "'y_test size: 16000'"
      ]
     },
     "metadata": {},
     "output_type": "display_data"
    },
    {
     "data": {
      "text/plain": [
       "'y_pred size: 16000'"
      ]
     },
     "metadata": {},
     "output_type": "display_data"
    },
    {
     "data": {
      "text/plain": [
       "\"y_test type: <class 'numpy.ndarray'>\""
      ]
     },
     "metadata": {},
     "output_type": "display_data"
    },
    {
     "data": {
      "text/plain": [
       "\"y_pred type: <class 'numpy.ndarray'>\""
      ]
     },
     "metadata": {},
     "output_type": "display_data"
    },
    {
     "ename": "ValueError",
     "evalue": "Classification metrics can't handle a mix of unknown and binary targets",
     "output_type": "error",
     "traceback": [
      "\u001b[0;31m---------------------------------------------------------------------------\u001b[0m",
      "\u001b[0;31mValueError\u001b[0m                                Traceback (most recent call last)",
      "\u001b[0;32m<ipython-input-93-bfcef3790f8e>\u001b[0m in \u001b[0;36m<module>\u001b[0;34m\u001b[0m\n\u001b[1;32m      4\u001b[0m \u001b[0mdisplay\u001b[0m\u001b[0;34m(\u001b[0m\u001b[0mpre_train_df\u001b[0m\u001b[0;34m[\u001b[0m\u001b[0;34m'class'\u001b[0m\u001b[0;34m]\u001b[0m\u001b[0;34m.\u001b[0m\u001b[0mvalue_counts\u001b[0m\u001b[0;34m(\u001b[0m\u001b[0;34m)\u001b[0m\u001b[0;34m)\u001b[0m\u001b[0;34m\u001b[0m\u001b[0;34m\u001b[0m\u001b[0m\n\u001b[1;32m      5\u001b[0m \u001b[0;34m\u001b[0m\u001b[0m\n\u001b[0;32m----> 6\u001b[0;31m \u001b[0mtrain_cluster\u001b[0m\u001b[0;34m(\u001b[0m\u001b[0mpre_train_df\u001b[0m\u001b[0;34m,\u001b[0m \u001b[0mpre_test_df\u001b[0m\u001b[0;34m)\u001b[0m\u001b[0;34m\u001b[0m\u001b[0;34m\u001b[0m\u001b[0m\n\u001b[0m",
      "\u001b[0;32m<ipython-input-90-1ce5acb940fc>\u001b[0m in \u001b[0;36mtrain_cluster\u001b[0;34m(pre_train_df, pre_test_df)\u001b[0m\n\u001b[1;32m     52\u001b[0m     \u001b[0;31m# print(((y_pred != 0) & (y_pred != 1)).any())\u001b[0m\u001b[0;34m\u001b[0m\u001b[0;34m\u001b[0m\u001b[0;34m\u001b[0m\u001b[0m\n\u001b[1;32m     53\u001b[0m \u001b[0;34m\u001b[0m\u001b[0m\n\u001b[0;32m---> 54\u001b[0;31m     \u001b[0maccuracy\u001b[0m \u001b[0;34m=\u001b[0m \u001b[0maccuracy_score\u001b[0m\u001b[0;34m(\u001b[0m\u001b[0my_test\u001b[0m\u001b[0;34m,\u001b[0m \u001b[0my_pred\u001b[0m\u001b[0;34m.\u001b[0m\u001b[0mround\u001b[0m\u001b[0;34m(\u001b[0m\u001b[0;34m)\u001b[0m\u001b[0;34m,\u001b[0m \u001b[0mnormalize\u001b[0m\u001b[0;34m=\u001b[0m\u001b[0;32mFalse\u001b[0m\u001b[0;34m)\u001b[0m\u001b[0;34m\u001b[0m\u001b[0;34m\u001b[0m\u001b[0m\n\u001b[0m\u001b[1;32m     55\u001b[0m     \u001b[0mdisplay\u001b[0m\u001b[0;34m(\u001b[0m\u001b[0;34m\"Accuracy %s\"\u001b[0m \u001b[0;34m%\u001b[0m \u001b[0;34m(\u001b[0m\u001b[0maccuracy\u001b[0m\u001b[0;34m)\u001b[0m\u001b[0;34m)\u001b[0m\u001b[0;34m\u001b[0m\u001b[0;34m\u001b[0m\u001b[0m\n\u001b[1;32m     56\u001b[0m     \u001b[0mtn\u001b[0m\u001b[0;34m,\u001b[0m \u001b[0mfp\u001b[0m\u001b[0;34m,\u001b[0m \u001b[0mfn\u001b[0m\u001b[0;34m,\u001b[0m \u001b[0mtp\u001b[0m \u001b[0;34m=\u001b[0m \u001b[0mconfusion_matrix\u001b[0m\u001b[0;34m(\u001b[0m\u001b[0my_pred\u001b[0m\u001b[0;34m,\u001b[0m \u001b[0my_test\u001b[0m\u001b[0;34m)\u001b[0m\u001b[0;34m.\u001b[0m\u001b[0mravel\u001b[0m\u001b[0;34m(\u001b[0m\u001b[0;34m)\u001b[0m\u001b[0;34m\u001b[0m\u001b[0;34m\u001b[0m\u001b[0m\n",
      "\u001b[0;32m/usr/local/lib/python3.7/dist-packages/sklearn/metrics/classification.py\u001b[0m in \u001b[0;36maccuracy_score\u001b[0;34m(y_true, y_pred, normalize, sample_weight)\u001b[0m\n\u001b[1;32m    174\u001b[0m \u001b[0;34m\u001b[0m\u001b[0m\n\u001b[1;32m    175\u001b[0m     \u001b[0;31m# Compute accuracy for each possible representation\u001b[0m\u001b[0;34m\u001b[0m\u001b[0;34m\u001b[0m\u001b[0;34m\u001b[0m\u001b[0m\n\u001b[0;32m--> 176\u001b[0;31m     \u001b[0my_type\u001b[0m\u001b[0;34m,\u001b[0m \u001b[0my_true\u001b[0m\u001b[0;34m,\u001b[0m \u001b[0my_pred\u001b[0m \u001b[0;34m=\u001b[0m \u001b[0m_check_targets\u001b[0m\u001b[0;34m(\u001b[0m\u001b[0my_true\u001b[0m\u001b[0;34m,\u001b[0m \u001b[0my_pred\u001b[0m\u001b[0;34m)\u001b[0m\u001b[0;34m\u001b[0m\u001b[0;34m\u001b[0m\u001b[0m\n\u001b[0m\u001b[1;32m    177\u001b[0m     \u001b[0mcheck_consistent_length\u001b[0m\u001b[0;34m(\u001b[0m\u001b[0my_true\u001b[0m\u001b[0;34m,\u001b[0m \u001b[0my_pred\u001b[0m\u001b[0;34m,\u001b[0m \u001b[0msample_weight\u001b[0m\u001b[0;34m)\u001b[0m\u001b[0;34m\u001b[0m\u001b[0;34m\u001b[0m\u001b[0m\n\u001b[1;32m    178\u001b[0m     \u001b[0;32mif\u001b[0m \u001b[0my_type\u001b[0m\u001b[0;34m.\u001b[0m\u001b[0mstartswith\u001b[0m\u001b[0;34m(\u001b[0m\u001b[0;34m'multilabel'\u001b[0m\u001b[0;34m)\u001b[0m\u001b[0;34m:\u001b[0m\u001b[0;34m\u001b[0m\u001b[0;34m\u001b[0m\u001b[0m\n",
      "\u001b[0;32m/usr/local/lib/python3.7/dist-packages/sklearn/metrics/classification.py\u001b[0m in \u001b[0;36m_check_targets\u001b[0;34m(y_true, y_pred)\u001b[0m\n\u001b[1;32m     79\u001b[0m     \u001b[0;32mif\u001b[0m \u001b[0mlen\u001b[0m\u001b[0;34m(\u001b[0m\u001b[0my_type\u001b[0m\u001b[0;34m)\u001b[0m \u001b[0;34m>\u001b[0m \u001b[0;36m1\u001b[0m\u001b[0;34m:\u001b[0m\u001b[0;34m\u001b[0m\u001b[0;34m\u001b[0m\u001b[0m\n\u001b[1;32m     80\u001b[0m         raise ValueError(\"Classification metrics can't handle a mix of {0} \"\n\u001b[0;32m---> 81\u001b[0;31m                          \"and {1} targets\".format(type_true, type_pred))\n\u001b[0m\u001b[1;32m     82\u001b[0m \u001b[0;34m\u001b[0m\u001b[0m\n\u001b[1;32m     83\u001b[0m     \u001b[0;31m# We can't have more than one value on y_type => The set is no more needed\u001b[0m\u001b[0;34m\u001b[0m\u001b[0;34m\u001b[0m\u001b[0;34m\u001b[0m\u001b[0m\n",
      "\u001b[0;31mValueError\u001b[0m: Classification metrics can't handle a mix of unknown and binary targets"
     ]
    },
    {
     "data": {
      "image/png": "[encoded data removed]",
      "text/plain": [
       "<Figure size 432x288 with 1 Axes>"
      ]
     },
     "metadata": {
      "needs_background": "light"
     },
     "output_type": "display_data"
    }
   ],
   "source": [
    "pre_train_df = fill_gaps(train_df)\n",
    "pre_test_df = fill_gaps(test_df)\n",
    "\n",
    "display(pre_train_df['class'].value_counts())\n",
    "\n",
    "train_cluster(pre_train_df, pre_test_df)"
   ]
  },
  {
   "cell_type": "markdown",
   "metadata": {},
   "source": [
    "# Test Case 2\n",
    "- fill_gaps\n",
    "- normalizing top 10 std_dev columns"
   ]
  },
  {
   "cell_type": "code",
   "execution_count": 6,
   "metadata": {},
   "outputs": [
    {
     "data": {
      "text/plain": [
       "ac_000    5.943633e+08\n",
       "dq_000    2.818990e+08\n",
       "eb_000    1.113884e+08\n",
       "bb_000    3.246790e+07\n",
       "bv_000    3.235481e+07\n",
       "cq_000    3.235481e+07\n",
       "bu_000    3.235481e+07\n",
       "bx_000    3.090717e+07\n",
       "cc_000    2.912746e+07\n",
       "du_000    2.895663e+07\n",
       "dtype: float64"
      ]
     },
     "metadata": {},
     "output_type": "display_data"
    },
    {
     "data": {
      "text/plain": [
       "'Accuracy 0.9220625'"
      ]
     },
     "metadata": {},
     "output_type": "display_data"
    },
    {
     "data": {
      "text/plain": [
       "'False positives: 21 - False Negatives 1226'"
      ]
     },
     "metadata": {},
     "output_type": "display_data"
    },
    {
     "data": {
      "text/plain": [
       "'Cost: 1268'"
      ]
     },
     "metadata": {},
     "output_type": "display_data"
    }
   ],
   "source": [
    "pre_train_df = fill_gaps(train_df)\n",
    "# Ignoring first column that is the label\n",
    "for c in pre_train_df.columns[1:].values:\n",
    "    pre_train_df[c] = pd.to_numeric(pre_train_df[c])\n",
    "    \n",
    "std_df = pre_train_df.std(axis = 0, skipna=True)\n",
    "top10_std = std_df.sort_values(ascending=[False])[:10]\n",
    "display(top10_std)\n",
    "top10_std_columns = top10_std.index\n",
    "pre_train_df = normalize(pre_train_df, columns = top10_std_columns)\n",
    "\n",
    "pre_test_df = fill_gaps(test_df)\n",
    "pre_test_df = normalize(pre_test_df, columns = top10_std_columns)\n",
    "\n",
    "train_cluster(pre_train_df, pre_test_df)"
   ]
  },
  {
   "cell_type": "markdown",
   "metadata": {},
   "source": [
    "# Test Case 3\n",
    "- fill gaps\n",
    "- normalizing top 10 std_dev columns\n",
    "- dimensionality reduction through pca"
   ]
  },
  {
   "cell_type": "code",
   "execution_count": 7,
   "metadata": {},
   "outputs": [
    {
     "data": {
      "text/plain": [
       "'Accuracy 0.0241875'"
      ]
     },
     "metadata": {},
     "output_type": "display_data"
    },
    {
     "data": {
      "text/plain": [
       "'False positives: 6 - False Negatives 15607'"
      ]
     },
     "metadata": {},
     "output_type": "display_data"
    },
    {
     "data": {
      "text/plain": [
       "'Cost: 15619'"
      ]
     },
     "metadata": {},
     "output_type": "display_data"
    }
   ],
   "source": [
    "pca_train_df = pca(pre_train_df.loc[:, pre_train_df.columns != 'class'])\n",
    "pca_test_df = pca(pre_test_df.loc[:, pre_train_df.columns != 'class'])\n",
    "\n",
    "pca_train_df = pd.concat([pre_train_df['class'], pca_train_df], axis=1)\n",
    "pca_test_df = pd.concat([pre_test_df['class'], pca_test_df], axis = 1)\n",
    "\n",
    "train_cluster(pca_train_df, pca_test_df)"
   ]
  },
  {
   "cell_type": "code",
   "execution_count": null,
   "metadata": {},
   "outputs": [],
   "source": []
  }
 ],
 "metadata": {
  "kernelspec": {
   "display_name": "Python 3",
   "language": "python",
   "name": "python3"
  },
  "language_info": {
   "codemirror_mode": {
    "name": "ipython",
    "version": 3
   },
   "file_extension": ".py",
   "mimetype": "text/x-python",
   "name": "python",
   "nbconvert_exporter": "python",
   "pygments_lexer": "ipython3",
   "version": "3.7.3"
  }
 },
 "nbformat": 4,
 "nbformat_minor": 2
}
